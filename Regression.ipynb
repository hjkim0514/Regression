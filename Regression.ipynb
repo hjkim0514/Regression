{
  "nbformat": 4,
  "nbformat_minor": 0,
  "metadata": {
    "colab": {
      "name": "Regression",
      "provenance": []
    },
    "kernelspec": {
      "name": "python3",
      "display_name": "Python 3"
    },
    "language_info": {
      "name": "python"
    }
  },
  "cells": [
    {
      "cell_type": "code",
      "execution_count": 1,
      "metadata": {
        "id": "Bpjdad29GL28"
      },
      "outputs": [],
      "source": [
        "import matplotlib.pyplot as plt\n",
        "import numpy as np\n",
        "x = 2 * np.random.rand(100,1)\n",
        "y = 4+3*x + np.random.randn(100,1)\n",
        "plt.show()"
      ]
    },
    {
      "cell_type": "code",
      "source": [
        "x_b = np.c_[np.ones((100,1)),x]\n",
        "theta_best = np.linalg.inv(x_b.T.dot(x_b)).dot(x_b.T).dot(y)\n",
        "print(theta_best)"
      ],
      "metadata": {
        "colab": {
          "base_uri": "https://localhost:8080/"
        },
        "id": "f7V-xZLOGkvu",
        "outputId": "e629c40c-5ef7-46b5-b677-769d15e356d3"
      },
      "execution_count": 2,
      "outputs": [
        {
          "output_type": "stream",
          "name": "stdout",
          "text": [
            "[[4.08582197]\n",
            " [2.84657402]]\n"
          ]
        }
      ]
    },
    {
      "cell_type": "code",
      "source": [
        "x_new = np.array([[0], [2]])\n",
        "x_new_b = np.c_[np.ones((2,1)), x_new]\n",
        "\n",
        "print(theta_best)\n",
        "my_result = x_new_b.dot(theta_best)\n",
        "plt.plot(x_new, my_result, \"r-\")\n",
        "plt.plot(x,y,\"b.\")\n",
        "plt.axis([0,2,0,15])\n",
        "plt.show()\n",
        "\n",
        "x = float(input(\"x를 입력해주세요 \"))\n",
        "y = x* theta_best[1] + theta_best[0]\n",
        "print(\"y 예측값 : \", y[0])"
      ],
      "metadata": {
        "colab": {
          "base_uri": "https://localhost:8080/",
          "height": 334
        },
        "id": "zcRTjkXlG9ak",
        "outputId": "0a942a7a-5ec6-4baa-f14a-0cd00cd998bf"
      },
      "execution_count": 5,
      "outputs": [
        {
          "output_type": "stream",
          "name": "stdout",
          "text": [
            "[[4.08582197]\n",
            " [2.84657402]]\n"
          ]
        },
        {
          "output_type": "display_data",
          "data": {
            "image/png": "[encoded data removed]",
            "text/plain": [
              "<Figure size 432x288 with 1 Axes>"
            ]
          },
          "metadata": {
            "needs_background": "light"
          }
        },
        {
          "output_type": "stream",
          "name": "stdout",
          "text": [
            "x를 입력해주세요 1\n",
            "y 예측값 :  6.932395990610074\n"
          ]
        }
      ]
    },
    {
      "cell_type": "markdown",
      "source": [
        ""
      ],
      "metadata": {
        "id": "EtjKlnD5HzAm"
      }
    }
  ]
}